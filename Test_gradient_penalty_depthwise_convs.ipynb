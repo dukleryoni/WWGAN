{
 "cells": [
  {
   "cell_type": "code",
   "execution_count": 11,
   "metadata": {},
   "outputs": [],
   "source": [
    "import torch\n",
    "import torchvision\n",
    "import numpy as np\n",
    "import matplotlib.pyplot as plt\n",
    "import wwgan_utils\n",
    "import torch.nn as nn"
   ]
  },
  {
   "cell_type": "code",
   "execution_count": 3,
   "metadata": {},
   "outputs": [],
   "source": [
    "class AttributeDict(dict):\n",
    "    def __getattr__(self, attr):\n",
    "        return self[attr]\n",
    "    def __setattr__(self, attr, value):\n",
    "        self[attr] = value"
   ]
  },
  {
   "cell_type": "code",
   "execution_count": 4,
   "metadata": {},
   "outputs": [],
   "source": [
    "args = AttributeDict()\n",
    "args.beta = 0.5\n",
    "args.epoch = 10"
   ]
  },
  {
   "cell_type": "code",
   "execution_count": 26,
   "metadata": {},
   "outputs": [],
   "source": [
    "def shift_diamond(X, a, b, c=0, d=0, dim=0, diag=False):\n",
    "    \"\"\"\n",
    "    Input batched images of size (batch, nc, im_height, im_width)\n",
    "    Applys operation X[i]*a -X[i+1]*b for the dimension chosen dim = 0 horizontal, dim = 1 vertical, dim =2 betwween channels\n",
    "    \"\"\"\n",
    "    if diag:\n",
    "        filt = torch.FloatTensor(\n",
    "            [a, b, c, d] + 12 * [0] + [a, b, c, d] + 12 * [0] + [a, b, c, d])\n",
    "        conv1 = nn.Conv2d(3, 3, (2, 2), stride=1, bias=False)\n",
    "        filt = filt.view(3, 3, 2, 2)\n",
    "        conv1.weight.data = filt\n",
    "\n",
    "    else:\n",
    "        if dim == 0:\n",
    "            filt = torch.FloatTensor([a, b, c, 0, 0, 0, 0, 0, 0, 0, 0, 0, a, b, c, 0, 0, 0, 0, 0, 0, 0, 0, 0, a, b, c])\n",
    "            conv1 = nn.Conv2d(3, 3, (1, 3), stride=1, bias=False)\n",
    "            filt = filt.view(3, 3, 1, 3)\n",
    "            conv1.weight.data = filt\n",
    "\n",
    "        elif dim == 1:\n",
    "            filt = torch.FloatTensor([a, b, c, 0, 0, 0, 0, 0, 0, 0, 0, 0, a, b, c, 0, 0, 0, 0, 0, 0, 0, 0, 0, a, b, c])\n",
    "            conv1 = nn.Conv2d(3, 3, (3, 1), stride=1, bias=False)\n",
    "            filt = filt.view(3, 3, 3, 1)\n",
    "            conv1.weight.data = filt\n",
    "\n",
    "        elif dim == 2:\n",
    "            filt = torch.FloatTensor([a, b, 0, a, 0, b, 0, a, b])\n",
    "            conv1 = nn.Conv2d(3, 3, (1, 1), stride=1, bias=False)\n",
    "            filt = filt.view(3, 3, 1, 1)\n",
    "            conv1.weight.data = filt\n",
    "\n",
    "    device = torch.device(\"cuda:4\" if (torch.cuda.is_available()) else \"cpu\")\n",
    "    conv1.to(device)\n",
    "    conv1.requires_grad = False\n",
    "    return conv1(X)"
   ]
  },
  {
   "cell_type": "code",
   "execution_count": 25,
   "metadata": {},
   "outputs": [],
   "source": [
    "def shift_diamond_depthwise(X, a, b, c=0, d=0, dim=0, diag=False):\n",
    "    \"\"\"\n",
    "    Input batched images of size (batch, nc, im_height, im_width)\n",
    "    Applys operation X[i]*a -X[i+1]*b for the dimension chosen dim = 0 horizontal, dim = 1 vertical, dim =2 betwween channels\n",
    "    \"\"\"\n",
    "    if diag:\n",
    "        filt = torch.FloatTensor(\n",
    "            [a, b, c, d] * 3)\n",
    "        conv1 = nn.Conv2d(3, 3, (2, 2), groups=3, stride=1, bias=False)\n",
    "        filt = filt.view(3, 1, 2, 2)\n",
    "        conv1.weight.data = filt\n",
    "\n",
    "    else:\n",
    "        if dim == 0:\n",
    "            filt = torch.FloatTensor([a, b, c]*3)\n",
    "            conv1 = nn.Conv2d(3, 3, (1, 3), groups=3, stride=1, bias=False)\n",
    "            filt = filt.view(3, 1, 1, 3)\n",
    "            conv1.weight.data = filt\n",
    "\n",
    "        elif dim == 1:\n",
    "            filt = torch.FloatTensor([a, b, c]*3)\n",
    "            conv1 = nn.Conv2d(3, 3, (3, 1), stride=1, groups=3, bias=False)\n",
    "            filt = filt.view(3, 1, 3, 1)\n",
    "            conv1.weight.data = filt\n",
    "\n",
    "        elif dim == 2:\n",
    "            filt = torch.FloatTensor([a, b, 0, a, 0, b, 0, a, b])\n",
    "            conv1 = nn.Conv2d(3, 3, (1, 1), stride=1, bias=False)\n",
    "            filt = filt.view(3, 3, 1, 1)\n",
    "            conv1.weight.data = filt\n",
    "\n",
    "    device = torch.device(\"cuda:4\" if (torch.cuda.is_available()) else \"cpu\")\n",
    "    conv1.to(device)\n",
    "    conv1.requires_grad = False\n",
    "    return conv1(X)"
   ]
  },
  {
   "cell_type": "markdown",
   "metadata": {},
   "source": [
    "## Test build_L operation"
   ]
  },
  {
   "cell_type": "code",
   "execution_count": 19,
   "metadata": {},
   "outputs": [],
   "source": [
    "batch= 16\n",
    "channels = 3 \n",
    "h = 64\n",
    "w = 64\n",
    "X = torch.randn(batch, channels, h,w, device=\"cuda:4\")\n",
    "a=1\n",
    "b = -2\n",
    "dim = 0\n",
    "diag=True\n",
    "\n",
    "Y = shift_diamond_depthwise(X, a, b, c=0,d=0, dim=dim, diag=diag)\n",
    "Z = shift_diamond(X, a, b, c=0, d=0, dim=dim, diag= diag)"
   ]
  },
  {
   "cell_type": "code",
   "execution_count": 18,
   "metadata": {},
   "outputs": [
    {
     "data": {
      "text/plain": [
       "torch.Size([16, 3, 63, 63])"
      ]
     },
     "execution_count": 18,
     "metadata": {},
     "output_type": "execute_result"
    }
   ],
   "source": [
    "Y.shape"
   ]
  },
  {
   "cell_type": "code",
   "execution_count": 20,
   "metadata": {},
   "outputs": [
    {
     "data": {
      "text/plain": [
       "torch.Size([16, 3, 63, 63])"
      ]
     },
     "execution_count": 20,
     "metadata": {},
     "output_type": "execute_result"
    }
   ],
   "source": [
    "Z.shape"
   ]
  },
  {
   "cell_type": "code",
   "execution_count": 27,
   "metadata": {},
   "outputs": [],
   "source": [
    "def test_depthwise(X, a, b, c,d, dim=dim, diag=diag):\n",
    "    with torch.no_grad():\n",
    "        Y = shift_diamond_depthwise(X, a, b, c=0,d=0, dim=dim, diag=diag)\n",
    "        Z = shift_diamond(X, a, b, c=0, d=0, dim=dim, diag= diag)\n",
    "        return torch.sum(torch.flatten((Y-Z)**2))"
   ]
  },
  {
   "cell_type": "code",
   "execution_count": 31,
   "metadata": {},
   "outputs": [
    {
     "name": "stdout",
     "output_type": "stream",
     "text": [
      "tensor(0., device='cuda:4')\n"
     ]
    }
   ],
   "source": [
    "batches = [16,32]\n",
    "dims = [0,1,2]\n",
    "diags =[True, False]\n",
    "a_s = [1, 0,-1]\n",
    "bs = [1,0, -3]\n",
    "\n",
    "total_error = 0\n",
    "for batch in batches:\n",
    "    for dim in dims:\n",
    "        for diag in diags:\n",
    "            for a in a_s:\n",
    "                for b in bs:\n",
    "                    X = torch.randn(batch, channels, h, w, device=\"cuda:4\")\n",
    "                    total_error+= test_depthwise(X, a,b,b,0,dim=dim, diag =diag)\n",
    "\n",
    "print(total_error)"
   ]
  },
  {
   "cell_type": "markdown",
   "metadata": {},
   "source": [
    "## Looking at some generated images"
   ]
  },
  {
   "cell_type": "code",
   "execution_count": 20,
   "metadata": {},
   "outputs": [
    {
     "data": {
      "text/plain": [
       "dict_keys(['img_list', 'G_losses', 'D_losses', 'GP_losses', 'FID_scores', 'grad_list', 'wgrad_list', 'grad_sum_list', 'epoch_time'])"
      ]
     },
     "execution_count": 20,
     "metadata": {},
     "output_type": "execute_result"
    }
   ],
   "source": [
    "file_path ='logs/2020-04-22--10-05-40_log/WGAN_data2020-04-22--10-05-40trial.p'\n",
    "\n",
    "import os\n",
    "os.listdir('logs')\n",
    "\n",
    "import pickle\n",
    "with open(file_path, 'rb') as f:\n",
    "    A = pickle.load(f)\n",
    "\n",
    "A.keys()\n",
    "\n",
    "A['FID_scores']\n",
    "os.listdir('logs/2020-04-22--10-05-40_log/')\n",
    "images = A['img_list']\n",
    "\n",
    "import numpy as np\n",
    "import matplotlib.pyplot as plt\n",
    "for image in images:\n",
    "    plt.figure(figsize=(16,16))\n",
    "    plt.imshow(np.transpose(image, (1,2,0)))\n",
    "    plt.show()"
   ]
  }
 ],
 "metadata": {
  "kernelspec": {
   "display_name": "Python 3",
   "language": "python",
   "name": "python3"
  },
  "language_info": {
   "codemirror_mode": {
    "name": "ipython",
    "version": 3
   },
   "file_extension": ".py",
   "mimetype": "text/x-python",
   "name": "python",
   "nbconvert_exporter": "python",
   "pygments_lexer": "ipython3",
   "version": "3.6.8"
  }
 },
 "nbformat": 4,
 "nbformat_minor": 2
}
